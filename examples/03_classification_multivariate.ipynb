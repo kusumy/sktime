{
 "cells": [
  {
   "cell_type": "markdown",
   "metadata": {},
   "source": [
    "# Multivariate time series classification with sktime\n",
    "\n",
    "In this notebook, we will use sktime for multivariate time series classification.\n",
    "\n",
    "For the simpler univariate time series classification setting, take a look at this [notebook](https://github.com/alan-turing-institute/sktime/blob/master/examples/01_classification_univariate.ipynb)."
   ]
  },
  {
   "cell_type": "markdown",
   "metadata": {},
   "source": [
    "### Preliminaries"
   ]
  },
  {
   "cell_type": "code",
   "execution_count": 1,
   "metadata": {
    "pycharm": {
     "is_executing": false
    }
   },
   "outputs": [],
   "source": [
    "import numpy as np\n",
    "from sklearn.pipeline import Pipeline\n",
    "from sktime.classification.compose import ColumnEnsembleClassifier\n",
    "from sktime.classification.compose import TimeSeriesForestClassifier\n",
    "from sktime.classification.dictionary_based import BOSSEnsemble\n",
    "from sktime.classification.shapelet_based import MrSEQLClassifier\n",
    "from sktime.datasets import load_basic_motions\n",
    "from sktime.transformers.series_as_features.compose import ColumnConcatenator\n",
    "from sklearn.model_selection import train_test_split"
   ]
  },
  {
   "cell_type": "markdown",
   "metadata": {},
   "source": [
    "### Load multivariate time series/panel data\n",
    "\n",
    "The [data set](http://www.timeseriesclassification.com/description.php?Dataset=BasicMotions) we use in this notebook was generated as part of a student project where four students performed four activities whilst wearing a smart watch. The watch collects 3D accelerometer and a 3D gyroscope It consists of four classes, which are walking, resting, running and badminton. Participants were required to record motion a total of five times, and the data is sampled once every tenth of a second, for a ten second period."
   ]
  },
  {
   "cell_type": "code",
   "execution_count": 2,
   "metadata": {},
   "outputs": [
    {
     "name": "stdout",
     "output_type": "stream",
     "text": [
      "(60, 6) (60,) (20, 6) (20,)\n"
     ]
    }
   ],
   "source": [
    "X, y = load_basic_motions(return_X_y=True)\n",
    "X_train, X_test, y_train, y_test = train_test_split(X, y)\n",
    "print(X_train.shape, y_train.shape, X_test.shape, y_test.shape)"
   ]
  },
  {
   "cell_type": "code",
   "execution_count": 3,
   "metadata": {},
   "outputs": [
    {
     "data": {
      "text/html": [
       "<div>\n",
       "<style scoped>\n",
       "    .dataframe tbody tr th:only-of-type {\n",
       "        vertical-align: middle;\n",
       "    }\n",
       "\n",
       "    .dataframe tbody tr th {\n",
       "        vertical-align: top;\n",
       "    }\n",
       "\n",
       "    .dataframe thead th {\n",
       "        text-align: right;\n",
       "    }\n",
       "</style>\n",
       "<table border=\"1\" class=\"dataframe\">\n",
       "  <thead>\n",
       "    <tr style=\"text-align: right;\">\n",
       "      <th></th>\n",
       "      <th>dim_0</th>\n",
       "      <th>dim_1</th>\n",
       "      <th>dim_2</th>\n",
       "      <th>dim_3</th>\n",
       "      <th>dim_4</th>\n",
       "      <th>dim_5</th>\n",
       "    </tr>\n",
       "  </thead>\n",
       "  <tbody>\n",
       "    <tr>\n",
       "      <th>1</th>\n",
       "      <td>0     0.377751\n",
       "1     0.377751\n",
       "2     2.952965\n",
       "3...</td>\n",
       "      <td>0    -0.610850\n",
       "1    -0.610850\n",
       "2     0.970717\n",
       "3...</td>\n",
       "      <td>0    -0.147376\n",
       "1    -0.147376\n",
       "2    -5.962515\n",
       "3...</td>\n",
       "      <td>0    -0.103872\n",
       "1    -0.103872\n",
       "2    -7.593275\n",
       "3...</td>\n",
       "      <td>0    -0.109198\n",
       "1    -0.109198\n",
       "2    -0.697804\n",
       "3...</td>\n",
       "      <td>0    -0.037287\n",
       "1    -0.037287\n",
       "2    -2.865789\n",
       "3...</td>\n",
       "    </tr>\n",
       "    <tr>\n",
       "      <th>14</th>\n",
       "      <td>0      1.186069\n",
       "1      1.186069\n",
       "2      0.02547...</td>\n",
       "      <td>0      0.013225\n",
       "1      0.013225\n",
       "2      1.92628...</td>\n",
       "      <td>0    -0.377872\n",
       "1    -0.377872\n",
       "2    -1.253871\n",
       "3...</td>\n",
       "      <td>0     0.367545\n",
       "1     0.367545\n",
       "2     0.221060\n",
       "3...</td>\n",
       "      <td>0    -0.253020\n",
       "1    -0.253020\n",
       "2    -0.500714\n",
       "3...</td>\n",
       "      <td>0     0.114525\n",
       "1     0.114525\n",
       "2    -0.173119\n",
       "3...</td>\n",
       "    </tr>\n",
       "    <tr>\n",
       "      <th>37</th>\n",
       "      <td>0     1.142016\n",
       "1     1.142016\n",
       "2     0.840727\n",
       "3...</td>\n",
       "      <td>0     1.018433\n",
       "1     1.018433\n",
       "2    -2.015249\n",
       "3...</td>\n",
       "      <td>0     0.677593\n",
       "1     0.677593\n",
       "2    -0.742828\n",
       "3...</td>\n",
       "      <td>0     0.175783\n",
       "1     0.175783\n",
       "2     1.611340\n",
       "3...</td>\n",
       "      <td>0    -0.460763\n",
       "1    -0.460763\n",
       "2    -1.358320\n",
       "3...</td>\n",
       "      <td>0     0.679160\n",
       "1     0.679160\n",
       "2     2.615432\n",
       "3...</td>\n",
       "    </tr>\n",
       "    <tr>\n",
       "      <th>25</th>\n",
       "      <td>0    -0.185181\n",
       "1    -0.185181\n",
       "2    -1.319727\n",
       "3...</td>\n",
       "      <td>0     0.059288\n",
       "1     0.059288\n",
       "2    -1.194247\n",
       "3...</td>\n",
       "      <td>0     0.250270\n",
       "1     0.250270\n",
       "2     0.418052\n",
       "3...</td>\n",
       "      <td>0     0.154476\n",
       "1     0.154476\n",
       "2     0.047941\n",
       "3...</td>\n",
       "      <td>0     0.167792\n",
       "1     0.167792\n",
       "2    -0.215733\n",
       "3...</td>\n",
       "      <td>0     0.732428\n",
       "1     0.732428\n",
       "2    -0.050604\n",
       "3...</td>\n",
       "    </tr>\n",
       "    <tr>\n",
       "      <th>17</th>\n",
       "      <td>0      3.789469\n",
       "1      3.789469\n",
       "2      1.78594...</td>\n",
       "      <td>0     -1.353556\n",
       "1     -1.353556\n",
       "2    -10.69460...</td>\n",
       "      <td>0    -0.685072\n",
       "1    -0.685072\n",
       "2    -4.465480\n",
       "3...</td>\n",
       "      <td>0    -0.021307\n",
       "1    -0.021307\n",
       "2     2.753927\n",
       "3...</td>\n",
       "      <td>0    -0.159802\n",
       "1    -0.159802\n",
       "2    -0.820319\n",
       "3...</td>\n",
       "      <td>0     0.133169\n",
       "1     0.133169\n",
       "2     2.974987\n",
       "3...</td>\n",
       "    </tr>\n",
       "  </tbody>\n",
       "</table>\n",
       "</div>"
      ],
      "text/plain": [
       "                                                dim_0  \\\n",
       "1   0     0.377751\n",
       "1     0.377751\n",
       "2     2.952965\n",
       "3...   \n",
       "14  0      1.186069\n",
       "1      1.186069\n",
       "2      0.02547...   \n",
       "37  0     1.142016\n",
       "1     1.142016\n",
       "2     0.840727\n",
       "3...   \n",
       "25  0    -0.185181\n",
       "1    -0.185181\n",
       "2    -1.319727\n",
       "3...   \n",
       "17  0      3.789469\n",
       "1      3.789469\n",
       "2      1.78594...   \n",
       "\n",
       "                                                dim_1  \\\n",
       "1   0    -0.610850\n",
       "1    -0.610850\n",
       "2     0.970717\n",
       "3...   \n",
       "14  0      0.013225\n",
       "1      0.013225\n",
       "2      1.92628...   \n",
       "37  0     1.018433\n",
       "1     1.018433\n",
       "2    -2.015249\n",
       "3...   \n",
       "25  0     0.059288\n",
       "1     0.059288\n",
       "2    -1.194247\n",
       "3...   \n",
       "17  0     -1.353556\n",
       "1     -1.353556\n",
       "2    -10.69460...   \n",
       "\n",
       "                                                dim_2  \\\n",
       "1   0    -0.147376\n",
       "1    -0.147376\n",
       "2    -5.962515\n",
       "3...   \n",
       "14  0    -0.377872\n",
       "1    -0.377872\n",
       "2    -1.253871\n",
       "3...   \n",
       "37  0     0.677593\n",
       "1     0.677593\n",
       "2    -0.742828\n",
       "3...   \n",
       "25  0     0.250270\n",
       "1     0.250270\n",
       "2     0.418052\n",
       "3...   \n",
       "17  0    -0.685072\n",
       "1    -0.685072\n",
       "2    -4.465480\n",
       "3...   \n",
       "\n",
       "                                                dim_3  \\\n",
       "1   0    -0.103872\n",
       "1    -0.103872\n",
       "2    -7.593275\n",
       "3...   \n",
       "14  0     0.367545\n",
       "1     0.367545\n",
       "2     0.221060\n",
       "3...   \n",
       "37  0     0.175783\n",
       "1     0.175783\n",
       "2     1.611340\n",
       "3...   \n",
       "25  0     0.154476\n",
       "1     0.154476\n",
       "2     0.047941\n",
       "3...   \n",
       "17  0    -0.021307\n",
       "1    -0.021307\n",
       "2     2.753927\n",
       "3...   \n",
       "\n",
       "                                                dim_4  \\\n",
       "1   0    -0.109198\n",
       "1    -0.109198\n",
       "2    -0.697804\n",
       "3...   \n",
       "14  0    -0.253020\n",
       "1    -0.253020\n",
       "2    -0.500714\n",
       "3...   \n",
       "37  0    -0.460763\n",
       "1    -0.460763\n",
       "2    -1.358320\n",
       "3...   \n",
       "25  0     0.167792\n",
       "1     0.167792\n",
       "2    -0.215733\n",
       "3...   \n",
       "17  0    -0.159802\n",
       "1    -0.159802\n",
       "2    -0.820319\n",
       "3...   \n",
       "\n",
       "                                                dim_5  \n",
       "1   0    -0.037287\n",
       "1    -0.037287\n",
       "2    -2.865789\n",
       "3...  \n",
       "14  0     0.114525\n",
       "1     0.114525\n",
       "2    -0.173119\n",
       "3...  \n",
       "37  0     0.679160\n",
       "1     0.679160\n",
       "2     2.615432\n",
       "3...  \n",
       "25  0     0.732428\n",
       "1     0.732428\n",
       "2    -0.050604\n",
       "3...  \n",
       "17  0     0.133169\n",
       "1     0.133169\n",
       "2     2.974987\n",
       "3...  "
      ]
     },
     "execution_count": 3,
     "metadata": {},
     "output_type": "execute_result"
    }
   ],
   "source": [
    "# multivariate input data\n",
    "X_train.head()"
   ]
  },
  {
   "cell_type": "code",
   "execution_count": 4,
   "metadata": {},
   "outputs": [
    {
     "data": {
      "text/plain": [
       "array(['badminton', 'running', 'standing', 'walking'], dtype=object)"
      ]
     },
     "execution_count": 4,
     "metadata": {},
     "output_type": "execute_result"
    }
   ],
   "source": [
    "# multi-class target variable\n",
    "np.unique(y_train)"
   ]
  },
  {
   "cell_type": "markdown",
   "metadata": {},
   "source": [
    "## Multivariate classification\n",
    "`sktime` offers three main ways of solving multivariate time series classification problems:\n",
    "\n",
    "1. _Concatenation_ of time series columns into a single long time series column via `ColumnConcatenator` and apply a classifier to the concatenated data,\n",
    "2. _Column-wise ensembling_ via `ColumnEnsembleClassifier` in which one classifier is fitted for each time series column and their predictions aggregated,\n",
    "3. _Bespoke estimator-specific methods_ for handling multivariate time series data, e.g. finding shapelets in multidimensional spaces (still work in progress)."
   ]
  },
  {
   "cell_type": "markdown",
   "metadata": {},
   "source": [
    "### Time series concatenation\n",
    "We can concatenate multivariate time series/panel data into long univiariate time series/panel and then apply a classifier to the univariate data."
   ]
  },
  {
   "cell_type": "code",
   "execution_count": 5,
   "metadata": {},
   "outputs": [
    {
     "data": {
      "text/plain": [
       "1.0"
      ]
     },
     "execution_count": 5,
     "metadata": {},
     "output_type": "execute_result"
    }
   ],
   "source": [
    "steps = [\n",
    "    ('concatenate', ColumnConcatenator()),\n",
    "    ('classify', TimeSeriesForestClassifier(n_estimators=100))]\n",
    "clf = Pipeline(steps)\n",
    "clf.fit(X_train, y_train)\n",
    "clf.score(X_test, y_test)"
   ]
  },
  {
   "cell_type": "markdown",
   "metadata": {},
   "source": [
    "### Column ensembling\n",
    "We can also fit one classifier for each time series column and then aggregated their predictions. The interface is similar to the familiar `ColumnTransformer` from sklearn."
   ]
  },
  {
   "cell_type": "code",
   "execution_count": 6,
   "metadata": {},
   "outputs": [
    {
     "data": {
      "text/plain": [
       "0.95"
      ]
     },
     "execution_count": 6,
     "metadata": {},
     "output_type": "execute_result"
    }
   ],
   "source": [
    "clf = ColumnEnsembleClassifier(estimators=[\n",
    "    (\"TSF0\", TimeSeriesForestClassifier(n_estimators=100), [0]),\n",
    "    (\"BOSSEnsemble3\", BOSSEnsemble(max_ensemble_size=5), [3]),\n",
    "])\n",
    "clf.fit(X_train, y_train)\n",
    "clf.score(X_test, y_test)"
   ]
  },
  {
   "cell_type": "markdown",
   "metadata": {},
   "source": [
    "### Bespoke classification algorithms\n",
    "Another approach is to use bespoke (or classifier-specific) methods for multivariate time series data. Here, we try out the MrSEQL algorithm  in multidimensional space."
   ]
  },
  {
   "cell_type": "code",
   "execution_count": 7,
   "metadata": {},
   "outputs": [
    {
     "data": {
      "text/plain": [
       "0.95"
      ]
     },
     "execution_count": 7,
     "metadata": {},
     "output_type": "execute_result"
    }
   ],
   "source": [
    "clf = MrSEQLClassifier()\n",
    "clf.fit(X_train, y_train)\n",
    "clf.score(X_test, y_test)"
   ]
  }
 ],
 "metadata": {
  "kernelspec": {
   "display_name": "Python 3",
   "language": "python",
   "name": "python3"
  },
  "language_info": {
   "codemirror_mode": {
    "name": "ipython",
    "version": 3
   },
   "file_extension": ".py",
   "mimetype": "text/x-python",
   "name": "python",
   "nbconvert_exporter": "python",
   "pygments_lexer": "ipython3",
   "version": "3.7.7"
  }
 },
 "nbformat": 4,
 "nbformat_minor": 2
}
